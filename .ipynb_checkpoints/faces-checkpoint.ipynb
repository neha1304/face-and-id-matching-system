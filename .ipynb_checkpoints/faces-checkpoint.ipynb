{
 "cells": [
  {
   "cell_type": "code",
   "execution_count": null,
   "metadata": {
    "scrolled": true
   },
   "outputs": [],
   "source": [
    "\n"
   ]
  },
  {
   "cell_type": "code",
   "execution_count": null,
   "metadata": {
    "scrolled": true
   },
   "outputs": [],
   "source": []
  },
  {
   "cell_type": "code",
   "execution_count": null,
   "metadata": {
    "scrolled": true
   },
   "outputs": [],
   "source": []
  },
  {
   "cell_type": "code",
   "execution_count": 15,
   "metadata": {},
   "outputs": [
    {
     "name": "stdout",
     "output_type": "stream",
     "text": [
      "neha-vishwakarma\n"
     ]
    }
   ],
   "source": [
    "################################### face detection and recognition ##################################\n",
    "\n",
    "import numpy as np\n",
    "import cv2\n",
    "import pickle\n",
    "\n",
    "face_cascade = cv2.CascadeClassifier('C:/Users/USER/ml project/cascades/data/haarcascade_frontalface_alt2.xml')\n",
    "recognizer = cv2.face.LBPHFaceRecognizer_create()\n",
    "recognizer.read(\"trainer.yml\")\n",
    "\n",
    "labels = {\"person_name\": 1}\n",
    "\n",
    "with open(\"labels.pickle\", 'rb') as f:\n",
    "    og_labels =   pickle.load(f)\n",
    "    labels = {v:k for k,v in og_labels.items()}\n",
    "\n",
    "\n",
    "cap = cv2.VideoCapture(0)\n",
    "\n",
    "while(True):\n",
    "    \n",
    "    ret,frame = cap.read()\n",
    "    gray = cv2.cvtColor(frame, cv2.COLOR_BGR2GRAY)\n",
    "    faces = face_cascade.detectMultiScale(gray, scaleFactor=1.8, minNeighbors=5)\n",
    "    \n",
    "    for(x,y,w,h) in faces:\n",
    "#         print(x,y,w,h)\n",
    "        roi_gray = gray[y:y+h, x:x+w]          #(ycordinate_start,ycordinate_end)\n",
    "        roi_color = frame[y:y+h, x:x+w]\n",
    "     \n",
    "        \n",
    "        id_, conf = recognizer.predict(roi_gray)\n",
    "        if conf <=65:\n",
    "#             print(id_)\n",
    "#             print(labels[id_])\n",
    "#             \n",
    "            font = cv2.FONT_HERSHEY_SIMPLEX\n",
    "            name = labels[id_]\n",
    "            color = (255,255,255)\n",
    "            stroke = 2\n",
    "            final_conf = \"{:.2f}\".format(conf)          #to limit confidence value upto 2 decimal places\n",
    "            cv2.putText(frame, name, (x,y-5), font, 1, color, stroke, cv2.LINE_AA)\n",
    "#             cv2.putText(frame, final_conf, (x,y-35), font, 1, color, stroke, cv2.LINE_AA)\n",
    "        \n",
    "        img_item = \"myPic.png\"\n",
    "        my_img = \"myImage.png\"\n",
    "\n",
    "        cv2.imwrite(img_item, roi_gray)\n",
    "        cv2.imwrite(my_img, roi_color)\n",
    "        \n",
    "        #Rectangle around frame\n",
    "        color = (255,0,0) #BGR not RGB (Blue color)\n",
    "        stroke = 2\n",
    "        end_cord_x = x+w\n",
    "        end_cord_y = y+h\n",
    "        cv2.rectangle(frame, (x,y), (end_cord_x,end_cord_y), color, stroke)\n",
    "    \n",
    "    \n",
    "    cv2.imshow('frame',frame)\n",
    "    if cv2.waitKey(20) & 0xFF == ord('q'):\n",
    "        break\n",
    "        \n",
    "#         \n",
    "        \n",
    "name = labels[id_]\n",
    "print(name)  \n",
    "cap.release()\n",
    "cv2.destroyAllWindows()"
   ]
  },
  {
   "cell_type": "code",
   "execution_count": 8,
   "metadata": {},
   "outputs": [
    {
     "name": "stdout",
     "output_type": "stream",
     "text": [
      "Neha-Vishwakarma\n"
     ]
    }
   ],
   "source": [
    "################################## QRCODE RECOGNITION ##################################\n",
    "\n",
    "import cv2\n",
    "import numpy as np\n",
    "from pyzbar.pyzbar import decode\n",
    "\n",
    "\n",
    "cap =cv2.VideoCapture(0)\n",
    "cap.set(3, 640)  #sets width of frame\n",
    "cap.set(4, 480)  #sets height of frame\n",
    "\n",
    "mydata = \"\"\n",
    "while True:\n",
    "\n",
    "    success , img =cap.read()\n",
    "\n",
    "    for barcode in decode(img):\n",
    "        mydata = barcode.data.decode('utf-8')\n",
    "        pts =  np.array([barcode.polygon], np.int32)\n",
    "        pts = pts.reshape((-1,1,2))\n",
    "        cv2.polylines(img, [pts] ,True, (225 ,0, 0), 4)\n",
    "\n",
    "        \n",
    "    cv2.imshow(\"frame\", img)\n",
    "    if cv2.waitKey(1) & 0xFF == ord('q'):\n",
    "        break\n",
    "\n",
    "print(mydata)\n",
    "cap.release()\n",
    "cv2.destroyAllWindows()\n",
    "\n",
    "#################################### displaying message  ###########################\n",
    "\n",
    "from tkinter import *\n",
    "from PIL import ImageTk,Image  \n",
    "\n",
    "if(mydata.lower()==name.lower()):\n",
    "    msg=\"Successfully Validated!\"\n",
    "    msgColor = \"#3efa2d\"\n",
    "else:\n",
    "    msg = \"Invalid. Try Again :(\"\n",
    "    msgColor = \"#000000\"\n",
    "    \n",
    "window =Tk()\n",
    "window.geometry(\"500x200\")\n",
    "window.title(\"Validator\")\n",
    "\n",
    "#displaying message \n",
    "message = Message(window, text= msg)\n",
    "message.config(font=(\"Consolas\", 15, \"bold\"))\n",
    "message.config(aspect =550)\n",
    "message.config(fg=msgColor) #foreground color \n",
    "#message.config(relief =SUNKEN) #frame styling\n",
    "message.config(padx = 50)     #padding on x axis\n",
    "message.config(pady = 70)     #padding on y axis\n",
    "\n",
    "message.pack()\n",
    "#message.place(x=80,y=10)\n",
    "window.mainloop()"
   ]
  },
  {
   "cell_type": "code",
   "execution_count": null,
   "metadata": {},
   "outputs": [],
   "source": []
  },
  {
   "cell_type": "code",
   "execution_count": null,
   "metadata": {},
   "outputs": [],
   "source": []
  },
  {
   "cell_type": "code",
   "execution_count": null,
   "metadata": {},
   "outputs": [],
   "source": []
  },
  {
   "cell_type": "code",
   "execution_count": null,
   "metadata": {},
   "outputs": [],
   "source": []
  },
  {
   "cell_type": "code",
   "execution_count": null,
   "metadata": {},
   "outputs": [],
   "source": []
  },
  {
   "cell_type": "code",
   "execution_count": 9,
   "metadata": {},
   "outputs": [],
   "source": [
    "# #rnd\n",
    "# import cv2 as cv\n",
    "# import numpy as np\n",
    "# import pickle\n",
    "\n",
    "\n",
    "# face_cascade = cv.CascadeClassifier('cascades/data/haarcascade_frontalface_alt2.xml')\n",
    "# recognizer = cv.face.LBPHFaceRecognizer_create()\n",
    "# recognizer.read(\"trainer.yml\")\n",
    "\n",
    "# labels = {\"person_name\": 1}\n",
    "# with open(\"labels.pickle\", 'rb') as f:\n",
    "#     og_labels =   pickle.load(f)\n",
    "#     labels = {v:k for k,v in og_labels.items()}\n",
    "\n",
    "# cap = cv.VideoCapture(0)\n",
    "\n",
    "# while(True):\n",
    "#     # Capture frame-by-frame\n",
    "#     ret, frame = cap.read()\n",
    "#     gray = cv.cvtColor(frame, cv.COLOR_BGR2GRAY)\n",
    "    \n",
    "#     faces = face_cascade.detectMultiScale(gray, scaleFactor=1.5, minNeighbors =5)\n",
    "#     recognizer = cv.face.LBPHFaceRecognizer_create()\n",
    "    \n",
    "#     for (x, y, w, h) in faces:\n",
    "        \n",
    "#         #print(x, y, w, h)\n",
    "        \n",
    "#         #saving gray-scale image\n",
    "#         roi_gray = gray[y:y+h, x:x+w] #(ycord_start, ycord_end)\n",
    "#         roi_color = frame[y:y+h, x:x+w]\n",
    "        \n",
    "        \n",
    "#         #recognizing\n",
    "#         id_,conf =recognizer.predict(roi_gray)\n",
    "        \n",
    "#         if conf>45 and conf>85:\n",
    "#             print(id_)\n",
    "#         img_item = \"my_image.png\"\n",
    "#         cv.imwrite(img_item,roi_gray)\n",
    "        \n",
    "        \n",
    "#         #adding rectangle around the face\n",
    "#         color = (255, 0 ,0)#bgr\n",
    "#         stroke = 2\n",
    "#         end_cord_x = x + w\n",
    "#         end_cord_y = y + h\n",
    "#         cv.rectangle(frame, (x,y), (end_cord_x, end_cord_y), color, stroke )\n",
    "\n",
    "    \n",
    "#     # Display the resulting frame\n",
    "#     cv.imshow('frame',frame)\n",
    "    \n",
    "#     if cv.waitKey(20) & 0xFF == ord('q'):\n",
    "#         break\n",
    "\n",
    "\n",
    "# # When everything done, release the capture\n",
    "# cap.release()\n",
    "# cv.destroyAllWindows()"
   ]
  },
  {
   "cell_type": "code",
   "execution_count": null,
   "metadata": {},
   "outputs": [],
   "source": []
  },
  {
   "cell_type": "code",
   "execution_count": null,
   "metadata": {},
   "outputs": [],
   "source": [
    "\n"
   ]
  },
  {
   "cell_type": "code",
   "execution_count": null,
   "metadata": {},
   "outputs": [],
   "source": []
  }
 ],
 "metadata": {
  "kernelspec": {
   "display_name": "Python 3",
   "language": "python",
   "name": "python3"
  },
  "language_info": {
   "codemirror_mode": {
    "name": "ipython",
    "version": 3
   },
   "file_extension": ".py",
   "mimetype": "text/x-python",
   "name": "python",
   "nbconvert_exporter": "python",
   "pygments_lexer": "ipython3",
   "version": "3.8.5"
  }
 },
 "nbformat": 4,
 "nbformat_minor": 4
}
